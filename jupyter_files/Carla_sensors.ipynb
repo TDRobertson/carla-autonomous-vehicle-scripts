{
 "cells": [
  {
   "cell_type": "markdown",
   "metadata": {},
   "source": [
    "# Carla notebook"
   ]
  },
  {
   "cell_type": "code",
   "execution_count": 1,
   "metadata": {},
   "outputs": [
    {
     "name": "stdout",
     "output_type": "stream",
     "text": [
      "Jupyter environment detected. Enabling Open3D WebVisualizer.\n",
      "[Open3D INFO] WebRTC GUI backend enabled.\n",
      "[Open3D INFO] WebRTCWindowSystem: HTTP handshake server disabled.\n"
     ]
    }
   ],
   "source": [
    "# This file serves as a starting template for other scripts.\n",
    "import glob\n",
    "import os\n",
    "import sys\n",
    "import random\n",
    "import time\n",
    "import numpy as np\n",
    "import cv2\n",
    "import open3d as o3d    # Open3D is used for 3D visualization of point clouds\n",
    "from matplotlib import cm   # Colormap for point cloud visualization\n",
    "\n",
    "# Add the carla egg file to the python path\n",
    "try:\n",
    "    sys.path.append(glob.glob('../carla/dist/carla-*%d.%d-%s.egg' % (\n",
    "        sys.version_info.major,\n",
    "        sys.version_info.minor,\n",
    "        'win-amd64' if os.name == 'nt' else 'linux-x86_64'))[0])\n",
    "except IndexError:\n",
    "    pass\n",
    "\n",
    "import carla\n",
    "\n",
    "client = carla.Client('localhost', 2000)\n",
    "# client.reload_world()\n",
    "world = client.get_world()\n",
    "\n",
    "blueprint_library = world.get_blueprint_library()\n",
    "spawn_points = world.get_map().get_spawn_points()\n",
    "start_point = spawn_points[0]\n",
    "random_start_point = random.choice(spawn_points)"
   ]
  },
  {
   "cell_type": "code",
   "execution_count": 2,
   "metadata": {},
   "outputs": [],
   "source": [
    "# Create Actor List\n",
    "# Function to clean up all actors\n",
    "def cleanUp():\n",
    "    for actor in actor_list:\n",
    "        actor.destroy()\n",
    "    print(\"All cleaned up!\")\n",
    "\n",
    "actor_list = []"
   ]
  },
  {
   "cell_type": "code",
   "execution_count": 3,
   "metadata": {},
   "outputs": [],
   "source": [
    "# Spawn vehicle\n",
    "vehicle_bp = blueprint_library.filter('vehicle.*')[0]\n",
    "# vehicle = world.spawn_actor(vehicle_bp, random_start_point)\n",
    "vehicle = world.spawn_actor(vehicle_bp, start_point)\n",
    "actor_list.append(vehicle)"
   ]
  },
  {
   "cell_type": "code",
   "execution_count": 4,
   "metadata": {},
   "outputs": [
    {
     "name": "stdout",
     "output_type": "stream",
     "text": [
      "sensor.other.collision\n",
      "sensor.camera.depth\n",
      "sensor.camera.optical_flow\n",
      "sensor.camera.normals\n",
      "sensor.other.lane_invasion\n",
      "sensor.camera.dvs\n",
      "sensor.other.imu\n",
      "sensor.other.gnss\n",
      "sensor.other.obstacle\n",
      "sensor.other.radar\n",
      "sensor.lidar.ray_cast_semantic\n",
      "sensor.lidar.ray_cast\n",
      "sensor.camera.rgb\n",
      "sensor.camera.semantic_segmentation\n",
      "sensor.other.rss\n",
      "sensor.camera.instance_segmentation\n"
     ]
    }
   ],
   "source": [
    "# Display available sensors\n",
    "for bp in blueprint_library.filter('sensor'):\n",
    "    print(bp.id)"
   ]
  },
  {
   "cell_type": "code",
   "execution_count": 4,
   "metadata": {},
   "outputs": [],
   "source": [
    "# Spawn sensors\n",
    "# Spawn RGB camera\n",
    "camera_bp = blueprint_library.find('sensor.camera.rgb')\n",
    "# Move the camera to a certain position in space before attaching it to the vehicle\n",
    "camera_init = carla.Transform(carla.Location(z=1.6, x=0.4))\n",
    "camera_sensor = world.spawn_actor(camera_bp, camera_init, attach_to=vehicle)\n",
    "actor_list.append(camera_sensor)\n",
    "\n",
    "# # Test camera position then clean up\n",
    "# time.sleep(0.2)\n",
    "# spectator.set_transform(camera_sensor.get_transform())\n",
    "# camera_sensor.destroy()\n",
    "\n",
    "# Spawn Semantic Camera\n",
    "semantic_camera_bp = blueprint_library.find('sensor.camera.semantic_segmentation')\n",
    "semantic_camera_sensor = world.spawn_actor(semantic_camera_bp, camera_init, attach_to=vehicle)\n",
    "actor_list.append(semantic_camera_sensor)\n",
    "# Spawn instance camera\n",
    "instance_camera_bp = blueprint_library.find('sensor.camera.instance_segmentation')\n",
    "instance_camera_sensor = world.spawn_actor(instance_camera_bp, camera_init, attach_to=vehicle)\n",
    "actor_list.append(instance_camera_sensor)\n",
    "# Spawn depth camera\n",
    "depth_camera_bp = blueprint_library.find('sensor.camera.depth')\n",
    "depth_camera_sensor = world.spawn_actor(depth_camera_bp, camera_init, attach_to=vehicle)\n",
    "actor_list.append(depth_camera_sensor)\n",
    "# Spawn dvs (dynamic vision sensor) camera\n",
    "dvs_camera_bp = blueprint_library.find('sensor.camera.dvs')\n",
    "dvs_camera_sensor = world.spawn_actor(dvs_camera_bp, camera_init, attach_to=vehicle)\n",
    "actor_list.append(dvs_camera_sensor)\n",
    "# Spawn optical flow camera\n",
    "optic_camera_bp = blueprint_library.find('sensor.camera.optical_flow')\n",
    "optic_camera_sensor = world.spawn_actor(optic_camera_bp, camera_init, attach_to=vehicle)\n",
    "actor_list.append(optic_camera_sensor)\n",
    "\n",
    "\n",
    "# Spawn GNSS\n",
    "gnss_bp = blueprint_library.find('sensor.other.gnss')\n",
    "# attach gnss sensor to the vehicle\n",
    "gnss_sensor = world.spawn_actor(gnss_bp, carla.Transform(), attach_to=vehicle)\n",
    "actor_list.append(gnss_sensor)"
   ]
  },
  {
   "cell_type": "code",
   "execution_count": 5,
   "metadata": {},
   "outputs": [],
   "source": [
    "# Callback functions for sensors\n",
    "# RGB Camera callback\n",
    "def camera_callback(image, data_dict):\n",
    "    # Convert the image to a numpy array and store it in the data dictionary with 4 as rgb and alpha channel\n",
    "    data_dict['rgb_image'] = np.reshape(np.copy(image.raw_data), (image.height, image.width, 4))\n",
    "\n",
    "# Semantic Camera callback\n",
    "def semantic_camera_callback(image, data_dict):\n",
    "    image.convert(carla.ColorConverter.CityScapesPalette)\n",
    "    data_dict['sem_image'] = np.reshape(np.copy(image.raw_data), (image.height, image.width, 4))\n",
    "# Instance Camera callback\n",
    "def instance_camera_callback(image, data_dict):\n",
    "    data_dict['inst_image'] = np.reshape(np.copy(image.raw_data), (image.height, image.width, 4))\n",
    "\n",
    "# Depth Camera callback\n",
    "def depth_camera_callback(image, data_dict):\n",
    "    # gives forground images more contrast\n",
    "    image.convert(carla.ColorConverter.LogarithmicDepth)\n",
    "    data_dict['depth_image'] = np.reshape(np.copy(image.raw_data), (image.height, image.width, 4))\n",
    "\n",
    "# DVS Camera callback\n",
    "def dvs_camera_callback(data, data_dict):\n",
    "    dvs_events = np.frombuffer(data.raw_data, dtype=np.dtype([\n",
    "                ('x', np.uint16), ('y', np.uint16), ('t', np.int64), ('pol', np.bool_)]))\n",
    "    data_dict['dvs_image'] = np.zeros((data.height, data.width, 4), dtype=np.uint8)\n",
    "    dvs_img = np.zeros((data.height, data.width, 3), dtype=np.uint8)\n",
    "    dvs_img[dvs_events[:]['y'], dvs_events[:]['x'], dvs_events[:]['pol'] * 2] = 255\n",
    "    data_dict['dvs_image'][:, :, 0:3] = dvs_img\n",
    "\n",
    "# Optical Flow Camera callback\n",
    "def optic_camera_callback(data, data_dict):\n",
    "    image = data.get_color_coded_flow()\n",
    "    img = np.reshape(np.copy(image.raw_data), (image.height, image.width, 4))\n",
    "    # Set the alpha channel to 255\n",
    "    img[:, :, 3] = 255\n",
    "    data_dict['opt_image'] = img\n",
    "\n",
    "# GNSS callback\n",
    "def gnss_callback(data):\n",
    "    data_dict['gnss'] = [data.latitude, data.longitude, data.altitude]"
   ]
  },
  {
   "cell_type": "code",
   "execution_count": 8,
   "metadata": {},
   "outputs": [
    {
     "ename": "KeyboardInterrupt",
     "evalue": "",
     "output_type": "error",
     "traceback": [
      "\u001b[1;31m---------------------------------------------------------------------------\u001b[0m",
      "\u001b[1;31mKeyboardInterrupt\u001b[0m                         Traceback (most recent call last)",
      "Cell \u001b[1;32mIn[8], line 52\u001b[0m\n\u001b[0;32m     49\u001b[0m opt_resized \u001b[38;5;241m=\u001b[39m resize_image(sensor_data[\u001b[38;5;124m'\u001b[39m\u001b[38;5;124mopt_image\u001b[39m\u001b[38;5;124m'\u001b[39m], scale_factor)\n\u001b[0;32m     51\u001b[0m \u001b[38;5;66;03m# Concatenate each image into a single image\u001b[39;00m\n\u001b[1;32m---> 52\u001b[0m top_row \u001b[38;5;241m=\u001b[39m \u001b[43mnp\u001b[49m\u001b[38;5;241;43m.\u001b[39;49m\u001b[43mconcatenate\u001b[49m\u001b[43m(\u001b[49m\u001b[43m(\u001b[49m\u001b[43mrgb_resized\u001b[49m\u001b[43m,\u001b[49m\u001b[43m \u001b[49m\u001b[43msem_resized\u001b[49m\u001b[43m,\u001b[49m\u001b[43m \u001b[49m\u001b[43minst_resized\u001b[49m\u001b[43m)\u001b[49m\u001b[43m,\u001b[49m\u001b[43m \u001b[49m\u001b[43maxis\u001b[49m\u001b[38;5;241;43m=\u001b[39;49m\u001b[38;5;241;43m1\u001b[39;49m\u001b[43m)\u001b[49m\n\u001b[0;32m     53\u001b[0m lower_row \u001b[38;5;241m=\u001b[39m np\u001b[38;5;241m.\u001b[39mconcatenate((depth_resized, dvs_resized, opt_resized), axis\u001b[38;5;241m=\u001b[39m\u001b[38;5;241m1\u001b[39m)\n\u001b[0;32m     54\u001b[0m tiled \u001b[38;5;241m=\u001b[39m np\u001b[38;5;241m.\u001b[39mconcatenate((top_row, lower_row), axis\u001b[38;5;241m=\u001b[39m\u001b[38;5;241m0\u001b[39m)\n",
      "\u001b[1;31mKeyboardInterrupt\u001b[0m: "
     ]
    },
    {
     "ename": "",
     "evalue": "",
     "output_type": "error",
     "traceback": [
      "\u001b[1;31mThe Kernel crashed while executing code in the current cell or a previous cell. \n",
      "\u001b[1;31mPlease review the code in the cell(s) to identify a possible cause of the failure. \n",
      "\u001b[1;31mClick <a href='https://aka.ms/vscodeJupyterKernelCrash'>here</a> for more info. \n",
      "\u001b[1;31mView Jupyter <a href='command:jupyter.viewOutput'>log</a> for further details."
     ]
    }
   ],
   "source": [
    "# Extract data from sensors\n",
    "image_width = camera_bp.get_attribute('image_size_x').as_int()\n",
    "image_height = camera_bp.get_attribute('image_size_y').as_int()\n",
    "\n",
    "sensor_data = {\n",
    "    'rgb_image': np.zeros((image_height, image_width, 4)),\n",
    "    'sem_image': np.zeros((image_height, image_width, 4)),\n",
    "    'inst_image': np.zeros((image_height, image_width, 4)),\n",
    "    'depth_image': np.zeros((image_height, image_width, 4)),\n",
    "    'dvs_image': np.zeros((image_height, image_width, 4)),\n",
    "    'opt_image': np.zeros((image_height, image_width, 4)),\n",
    "}\n",
    "\n",
    "cv2.namedWindow('All Cameras', cv2.WINDOW_AUTOSIZE)\n",
    "\n",
    "# Set scaling factor for window size\n",
    "scale_factor = 0.7\n",
    "\n",
    "def resize_image(image, scale_factor):\n",
    "    width = int(image.shape[1] * scale_factor)\n",
    "    height = int(image.shape[0] * scale_factor)\n",
    "    return cv2.resize(image, (width, height))\n",
    "\n",
    "\n",
    "# Concatenate each image into a single image\n",
    "top_row = np.concatenate((sensor_data['rgb_image'], sensor_data['sem_image'], sensor_data['inst_image']), axis=1)\n",
    "lower_row = np.concatenate((sensor_data['depth_image'], sensor_data['dvs_image'], sensor_data['opt_image']), axis=1)\n",
    "tiled = np.concatenate((top_row, lower_row), axis=0)\n",
    "\n",
    "cv2.imshow('All Cameras', tiled)\n",
    "cv2.waitKey(1)\n",
    "\n",
    "# Set up callbacks\n",
    "camera_sensor.listen(lambda image: camera_callback(image, sensor_data))\n",
    "semantic_camera_sensor.listen(lambda image: semantic_camera_callback(image, sensor_data))\n",
    "instance_camera_sensor.listen(lambda image: instance_camera_callback(image, sensor_data))\n",
    "depth_camera_sensor.listen(lambda image: depth_camera_callback(image, sensor_data))\n",
    "dvs_camera_sensor.listen(lambda image: dvs_camera_callback(image, sensor_data))\n",
    "optic_camera_sensor.listen(lambda image: optic_camera_callback(image, sensor_data))\n",
    "\n",
    "while True:\n",
    "\n",
    "    # Resize images before concatenation\n",
    "    rgb_resized = resize_image(sensor_data['rgb_image'], scale_factor)\n",
    "    sem_resized = resize_image(sensor_data['sem_image'], scale_factor)\n",
    "    inst_resized = resize_image(sensor_data['inst_image'], scale_factor)\n",
    "    depth_resized = resize_image(sensor_data['depth_image'], scale_factor)\n",
    "    dvs_resized = resize_image(sensor_data['dvs_image'], scale_factor)\n",
    "    opt_resized = resize_image(sensor_data['opt_image'], scale_factor)\n",
    "\n",
    "    # Concatenate each image into a single image\n",
    "    top_row = np.concatenate((rgb_resized, sem_resized, inst_resized), axis=1)\n",
    "    lower_row = np.concatenate((depth_resized, dvs_resized, opt_resized), axis=1)\n",
    "    tiled = np.concatenate((top_row, lower_row), axis=0)\n",
    "\n",
    "    cv2.imshow('All Cameras', tiled)\n",
    "    if cv2.waitKey(1) == ord('q'):\n",
    "        break\n",
    "    \n",
    "camera_sensor.stop()\n",
    "semantic_camera_sensor.stop()\n",
    "instance_camera_sensor.stop()\n",
    "depth_camera_sensor.stop()\n",
    "dvs_camera_sensor.stop()\n",
    "optic_camera_sensor.stop()\n",
    "cv2.destroyAllWindows()"
   ]
  },
  {
   "cell_type": "code",
   "execution_count": 11,
   "metadata": {},
   "outputs": [],
   "source": [
    "# Cause vehicle to drive forward for 3 seconds\n",
    "vehicle.apply_control(carla.VehicleControl(throttle=1.0, steer=0.0))\n",
    "time.sleep(3)\n",
    "# Stop vehicle\n",
    "vehicle.apply_control(carla.VehicleControl(throttle=0.0, steer=0.0))\n"
   ]
  },
  {
   "cell_type": "code",
   "execution_count": 9,
   "metadata": {},
   "outputs": [],
   "source": [
    "# Create OpenCV window to render the camera data\n",
    "cv2.namedWindow('Camera'), cv2.WINDOW_AUTOSIZE\n",
    "cv2. imshow('Camera', camera_data['image'])\n",
    "cv2.waitKey(1)\n",
    "\n",
    "while True:\n",
    "    cv2.imshow('Camera', camera_data['image'])\n",
    "    # Break the loop if the user presses the 'q' key with window focused\n",
    "    if cv2.waitKey(1) == ord('q'):\n",
    "        break\n",
    "\n",
    "cv2.destroyAllWindows()\n",
    "\n"
   ]
  },
  {
   "cell_type": "code",
   "execution_count": 36,
   "metadata": {},
   "outputs": [
    {
     "name": "stdout",
     "output_type": "stream",
     "text": [
      "Transform(Location(x=-29.336229, y=24.564341, z=-0.007439), Rotation(pitch=0.059928, yaw=0.133172, roll=0.000000))\n"
     ]
    }
   ],
   "source": [
    "# Get vehicle position on map\n",
    "# Note that transform means positioning of the car, not changes in the car\n",
    "vehicle_pos = vehicle.get_transform()\n",
    "print(vehicle_pos)\n",
    "# get the vehicle's gnss location\n",
    "\n"
   ]
  },
  {
   "cell_type": "code",
   "execution_count": 7,
   "metadata": {},
   "outputs": [],
   "source": [
    "# Start/stop vehicle autopilot\n",
    "vehicle.set_autopilot(True)\n",
    "# vehicle.set_autopilot(False)"
   ]
  },
  {
   "cell_type": "code",
   "execution_count": 15,
   "metadata": {},
   "outputs": [
    {
     "name": "stdout",
     "output_type": "stream",
     "text": [
      "Carla/Maps/Town10HD_Opt\n",
      "[(<carla.libcarla.Waypoint object at 0x000001CD08F37D80>, <carla.libcarla.Waypoint object at 0x000001CD08F37F40>), (<carla.libcarla.Waypoint object at 0x000001CD07EB0040>, <carla.libcarla.Waypoint object at 0x000001CD07EB0120>), (<carla.libcarla.Waypoint object at 0x000001CD07EB0190>, <carla.libcarla.Waypoint object at 0x000001CD07EB0200>), (<carla.libcarla.Waypoint object at 0x000001CD07EB0270>, <carla.libcarla.Waypoint object at 0x000001CD07EB02E0>), (<carla.libcarla.Waypoint object at 0x000001CD07EB0350>, <carla.libcarla.Waypoint object at 0x000001CD07EB03C0>), (<carla.libcarla.Waypoint object at 0x000001CD07EB0430>, <carla.libcarla.Waypoint object at 0x000001CD07EB04A0>), (<carla.libcarla.Waypoint object at 0x000001CD07EB0580>, <carla.libcarla.Waypoint object at 0x000001CD07EB0510>), (<carla.libcarla.Waypoint object at 0x000001CD07EB05F0>, <carla.libcarla.Waypoint object at 0x000001CD07EB06D0>), (<carla.libcarla.Waypoint object at 0x000001CD07EB0740>, <carla.libcarla.Waypoint object at 0x000001CD07EB07B0>), (<carla.libcarla.Waypoint object at 0x000001CD07EB0660>, <carla.libcarla.Waypoint object at 0x000001CD07EB0820>), (<carla.libcarla.Waypoint object at 0x000001CD07EB0890>, <carla.libcarla.Waypoint object at 0x000001CD07EB0900>), (<carla.libcarla.Waypoint object at 0x000001CD07EB0970>, <carla.libcarla.Waypoint object at 0x000001CD07EB09E0>), (<carla.libcarla.Waypoint object at 0x000001CD07EB0A50>, <carla.libcarla.Waypoint object at 0x000001CD07EB0AC0>), (<carla.libcarla.Waypoint object at 0x000001CD07EB0B30>, <carla.libcarla.Waypoint object at 0x000001CD07EB0BA0>), (<carla.libcarla.Waypoint object at 0x000001CD07EB0C10>, <carla.libcarla.Waypoint object at 0x000001CD07EB0C80>), (<carla.libcarla.Waypoint object at 0x000001CD07EB0CF0>, <carla.libcarla.Waypoint object at 0x000001CD07EB0D60>), (<carla.libcarla.Waypoint object at 0x000001CD07EB0DD0>, <carla.libcarla.Waypoint object at 0x000001CD07EB0E40>), (<carla.libcarla.Waypoint object at 0x000001CD07EB0EB0>, <carla.libcarla.Waypoint object at 0x000001CD07EB0F20>), (<carla.libcarla.Waypoint object at 0x000001CD07EB0F90>, <carla.libcarla.Waypoint object at 0x000001CD07EB1000>), (<carla.libcarla.Waypoint object at 0x000001CD07EB1070>, <carla.libcarla.Waypoint object at 0x000001CD07EB10E0>), (<carla.libcarla.Waypoint object at 0x000001CD07EB1150>, <carla.libcarla.Waypoint object at 0x000001CD07EB11C0>), (<carla.libcarla.Waypoint object at 0x000001CD07EB1230>, <carla.libcarla.Waypoint object at 0x000001CD07EB12A0>), (<carla.libcarla.Waypoint object at 0x000001CD07EB1310>, <carla.libcarla.Waypoint object at 0x000001CD07EB1380>), (<carla.libcarla.Waypoint object at 0x000001CD07EB13F0>, <carla.libcarla.Waypoint object at 0x000001CD07EB1460>), (<carla.libcarla.Waypoint object at 0x000001CD07EB14D0>, <carla.libcarla.Waypoint object at 0x000001CD07EB1540>), (<carla.libcarla.Waypoint object at 0x000001CD07EB15B0>, <carla.libcarla.Waypoint object at 0x000001CD07EB1620>), (<carla.libcarla.Waypoint object at 0x000001CD07EB1690>, <carla.libcarla.Waypoint object at 0x000001CD07EB1700>), (<carla.libcarla.Waypoint object at 0x000001CD07EB1770>, <carla.libcarla.Waypoint object at 0x000001CD07EB17E0>), (<carla.libcarla.Waypoint object at 0x000001CD07EB1850>, <carla.libcarla.Waypoint object at 0x000001CD07EB18C0>), (<carla.libcarla.Waypoint object at 0x000001CD07EB1930>, <carla.libcarla.Waypoint object at 0x000001CD07EB19A0>), (<carla.libcarla.Waypoint object at 0x000001CD07EB1A10>, <carla.libcarla.Waypoint object at 0x000001CD07EB1A80>), (<carla.libcarla.Waypoint object at 0x000001CD07EB1AF0>, <carla.libcarla.Waypoint object at 0x000001CD07EB1B60>), (<carla.libcarla.Waypoint object at 0x000001CD07EB1BD0>, <carla.libcarla.Waypoint object at 0x000001CD07EB1C40>), (<carla.libcarla.Waypoint object at 0x000001CD07EB1CB0>, <carla.libcarla.Waypoint object at 0x000001CD07EB1D20>), (<carla.libcarla.Waypoint object at 0x000001CD07EB1D90>, <carla.libcarla.Waypoint object at 0x000001CD07EB1E00>), (<carla.libcarla.Waypoint object at 0x000001CD07EB1E70>, <carla.libcarla.Waypoint object at 0x000001CD07EB1EE0>), (<carla.libcarla.Waypoint object at 0x000001CD07EB1F50>, <carla.libcarla.Waypoint object at 0x000001CD07EB1FC0>), (<carla.libcarla.Waypoint object at 0x000001CD07EB2030>, <carla.libcarla.Waypoint object at 0x000001CD07EB20A0>), (<carla.libcarla.Waypoint object at 0x000001CD07EB2110>, <carla.libcarla.Waypoint object at 0x000001CD07EB2180>), (<carla.libcarla.Waypoint object at 0x000001CD07EB21F0>, <carla.libcarla.Waypoint object at 0x000001CD07EB2260>), (<carla.libcarla.Waypoint object at 0x000001CD07EB22D0>, <carla.libcarla.Waypoint object at 0x000001CD07EB2340>), (<carla.libcarla.Waypoint object at 0x000001CD07EB23B0>, <carla.libcarla.Waypoint object at 0x000001CD07EB2420>), (<carla.libcarla.Waypoint object at 0x000001CD07EB2490>, <carla.libcarla.Waypoint object at 0x000001CD07EB2500>), (<carla.libcarla.Waypoint object at 0x000001CD07EB2570>, <carla.libcarla.Waypoint object at 0x000001CD07EB25E0>), (<carla.libcarla.Waypoint object at 0x000001CD07EB2650>, <carla.libcarla.Waypoint object at 0x000001CD07EB26C0>), (<carla.libcarla.Waypoint object at 0x000001CD07EB2730>, <carla.libcarla.Waypoint object at 0x000001CD07EB27A0>), (<carla.libcarla.Waypoint object at 0x000001CD07EB2810>, <carla.libcarla.Waypoint object at 0x000001CD07EB2880>), (<carla.libcarla.Waypoint object at 0x000001CD07EB28F0>, <carla.libcarla.Waypoint object at 0x000001CD07EB2960>), (<carla.libcarla.Waypoint object at 0x000001CD07EB29D0>, <carla.libcarla.Waypoint object at 0x000001CD07EB2A40>), (<carla.libcarla.Waypoint object at 0x000001CD07EB2AB0>, <carla.libcarla.Waypoint object at 0x000001CD07EB2B20>), (<carla.libcarla.Waypoint object at 0x000001CD07EB2B90>, <carla.libcarla.Waypoint object at 0x000001CD07EB2C00>), (<carla.libcarla.Waypoint object at 0x000001CD07EB2C70>, <carla.libcarla.Waypoint object at 0x000001CD07EB2CE0>), (<carla.libcarla.Waypoint object at 0x000001CD07EB2D50>, <carla.libcarla.Waypoint object at 0x000001CD07EB2DC0>), (<carla.libcarla.Waypoint object at 0x000001CD07EB2E30>, <carla.libcarla.Waypoint object at 0x000001CD07EB2EA0>), (<carla.libcarla.Waypoint object at 0x000001CD07EB2F10>, <carla.libcarla.Waypoint object at 0x000001CD07EB2F80>), (<carla.libcarla.Waypoint object at 0x000001CD07EB2FF0>, <carla.libcarla.Waypoint object at 0x000001CD07EB3060>), (<carla.libcarla.Waypoint object at 0x000001CD07EB30D0>, <carla.libcarla.Waypoint object at 0x000001CD07EB3140>), (<carla.libcarla.Waypoint object at 0x000001CD07EB31B0>, <carla.libcarla.Waypoint object at 0x000001CD07EB3220>), (<carla.libcarla.Waypoint object at 0x000001CD07EB3290>, <carla.libcarla.Waypoint object at 0x000001CD07EB3300>), (<carla.libcarla.Waypoint object at 0x000001CD07EB3370>, <carla.libcarla.Waypoint object at 0x000001CD07EB33E0>), (<carla.libcarla.Waypoint object at 0x000001CD07EB3450>, <carla.libcarla.Waypoint object at 0x000001CD07EB34C0>), (<carla.libcarla.Waypoint object at 0x000001CD07EB3530>, <carla.libcarla.Waypoint object at 0x000001CD07EB35A0>), (<carla.libcarla.Waypoint object at 0x000001CD07EB3610>, <carla.libcarla.Waypoint object at 0x000001CD07EB3680>), (<carla.libcarla.Waypoint object at 0x000001CD07EB36F0>, <carla.libcarla.Waypoint object at 0x000001CD07EB3760>), (<carla.libcarla.Waypoint object at 0x000001CD07EB37D0>, <carla.libcarla.Waypoint object at 0x000001CD07EB3840>), (<carla.libcarla.Waypoint object at 0x000001CD07EB38B0>, <carla.libcarla.Waypoint object at 0x000001CD07EB3920>), (<carla.libcarla.Waypoint object at 0x000001CD07EB3990>, <carla.libcarla.Waypoint object at 0x000001CD07EB3A00>), (<carla.libcarla.Waypoint object at 0x000001CD07EB3A70>, <carla.libcarla.Waypoint object at 0x000001CD07EB3AE0>), (<carla.libcarla.Waypoint object at 0x000001CD07EB3B50>, <carla.libcarla.Waypoint object at 0x000001CD07EB3BC0>), (<carla.libcarla.Waypoint object at 0x000001CD07EB3C30>, <carla.libcarla.Waypoint object at 0x000001CD07EB3CA0>), (<carla.libcarla.Waypoint object at 0x000001CD07EB3D10>, <carla.libcarla.Waypoint object at 0x000001CD07EB3D80>), (<carla.libcarla.Waypoint object at 0x000001CD07EB3DF0>, <carla.libcarla.Waypoint object at 0x000001CD07EB3E60>), (<carla.libcarla.Waypoint object at 0x000001CD07EB3ED0>, <carla.libcarla.Waypoint object at 0x000001CD07EB3F40>), (<carla.libcarla.Waypoint object at 0x000001CD07DE4040>, <carla.libcarla.Waypoint object at 0x000001CD07DE40B0>), (<carla.libcarla.Waypoint object at 0x000001CD07DE4120>, <carla.libcarla.Waypoint object at 0x000001CD07DE4190>), (<carla.libcarla.Waypoint object at 0x000001CD07DE4200>, <carla.libcarla.Waypoint object at 0x000001CD07DE4270>), (<carla.libcarla.Waypoint object at 0x000001CD07DE42E0>, <carla.libcarla.Waypoint object at 0x000001CD07DE4350>), (<carla.libcarla.Waypoint object at 0x000001CD07DE43C0>, <carla.libcarla.Waypoint object at 0x000001CD07DE4430>), (<carla.libcarla.Waypoint object at 0x000001CD07DE44A0>, <carla.libcarla.Waypoint object at 0x000001CD07DE4510>), (<carla.libcarla.Waypoint object at 0x000001CD07DE4580>, <carla.libcarla.Waypoint object at 0x000001CD07DE45F0>), (<carla.libcarla.Waypoint object at 0x000001CD07DE4660>, <carla.libcarla.Waypoint object at 0x000001CD07DE46D0>), (<carla.libcarla.Waypoint object at 0x000001CD07DE4740>, <carla.libcarla.Waypoint object at 0x000001CD07DE47B0>), (<carla.libcarla.Waypoint object at 0x000001CD07DE4820>, <carla.libcarla.Waypoint object at 0x000001CD07DE4890>), (<carla.libcarla.Waypoint object at 0x000001CD07DE4900>, <carla.libcarla.Waypoint object at 0x000001CD07DE4970>), (<carla.libcarla.Waypoint object at 0x000001CD07DE49E0>, <carla.libcarla.Waypoint object at 0x000001CD07DE4A50>), (<carla.libcarla.Waypoint object at 0x000001CD07DE4AC0>, <carla.libcarla.Waypoint object at 0x000001CD07DE4B30>), (<carla.libcarla.Waypoint object at 0x000001CD07DE4BA0>, <carla.libcarla.Waypoint object at 0x000001CD07DE4C10>), (<carla.libcarla.Waypoint object at 0x000001CD07DE4C80>, <carla.libcarla.Waypoint object at 0x000001CD07DE4CF0>), (<carla.libcarla.Waypoint object at 0x000001CD07DE4D60>, <carla.libcarla.Waypoint object at 0x000001CD07DE4DD0>), (<carla.libcarla.Waypoint object at 0x000001CD07DE4E40>, <carla.libcarla.Waypoint object at 0x000001CD07DE4EB0>), (<carla.libcarla.Waypoint object at 0x000001CD07DE4F20>, <carla.libcarla.Waypoint object at 0x000001CD07DE4F90>), (<carla.libcarla.Waypoint object at 0x000001CD07DE5000>, <carla.libcarla.Waypoint object at 0x000001CD07DE5070>), (<carla.libcarla.Waypoint object at 0x000001CD07DE50E0>, <carla.libcarla.Waypoint object at 0x000001CD07DE5150>), (<carla.libcarla.Waypoint object at 0x000001CD07DE51C0>, <carla.libcarla.Waypoint object at 0x000001CD07DE5230>), (<carla.libcarla.Waypoint object at 0x000001CD07DE52A0>, <carla.libcarla.Waypoint object at 0x000001CD07DE5310>), (<carla.libcarla.Waypoint object at 0x000001CD07DE5380>, <carla.libcarla.Waypoint object at 0x000001CD07DE53F0>), (<carla.libcarla.Waypoint object at 0x000001CD07DE5460>, <carla.libcarla.Waypoint object at 0x000001CD07DE54D0>), (<carla.libcarla.Waypoint object at 0x000001CD07DE5540>, <carla.libcarla.Waypoint object at 0x000001CD07DE55B0>), (<carla.libcarla.Waypoint object at 0x000001CD07DE5620>, <carla.libcarla.Waypoint object at 0x000001CD07DE5690>), (<carla.libcarla.Waypoint object at 0x000001CD07DE5700>, <carla.libcarla.Waypoint object at 0x000001CD07DE5770>), (<carla.libcarla.Waypoint object at 0x000001CD07DE57E0>, <carla.libcarla.Waypoint object at 0x000001CD07DE5850>), (<carla.libcarla.Waypoint object at 0x000001CD07DE58C0>, <carla.libcarla.Waypoint object at 0x000001CD07DE5930>), (<carla.libcarla.Waypoint object at 0x000001CD07DE59A0>, <carla.libcarla.Waypoint object at 0x000001CD07DE5A10>), (<carla.libcarla.Waypoint object at 0x000001CD07DE5A80>, <carla.libcarla.Waypoint object at 0x000001CD07DE5AF0>), (<carla.libcarla.Waypoint object at 0x000001CD07DE5B60>, <carla.libcarla.Waypoint object at 0x000001CD07DE5BD0>), (<carla.libcarla.Waypoint object at 0x000001CD07DE5C40>, <carla.libcarla.Waypoint object at 0x000001CD07DE5CB0>), (<carla.libcarla.Waypoint object at 0x000001CD07DE5D20>, <carla.libcarla.Waypoint object at 0x000001CD07DE5D90>), (<carla.libcarla.Waypoint object at 0x000001CD07DE5E00>, <carla.libcarla.Waypoint object at 0x000001CD07DE5E70>), (<carla.libcarla.Waypoint object at 0x000001CD07DE5EE0>, <carla.libcarla.Waypoint object at 0x000001CD07DE5F50>), (<carla.libcarla.Waypoint object at 0x000001CD07DE5FC0>, <carla.libcarla.Waypoint object at 0x000001CD07DE6030>), (<carla.libcarla.Waypoint object at 0x000001CD07DE60A0>, <carla.libcarla.Waypoint object at 0x000001CD07DE6110>), (<carla.libcarla.Waypoint object at 0x000001CD07DE6180>, <carla.libcarla.Waypoint object at 0x000001CD07DE61F0>), (<carla.libcarla.Waypoint object at 0x000001CD07DE6260>, <carla.libcarla.Waypoint object at 0x000001CD07DE62D0>), (<carla.libcarla.Waypoint object at 0x000001CD07DE6340>, <carla.libcarla.Waypoint object at 0x000001CD07DE63B0>), (<carla.libcarla.Waypoint object at 0x000001CD07DE6420>, <carla.libcarla.Waypoint object at 0x000001CD07DE6490>), (<carla.libcarla.Waypoint object at 0x000001CD07DE6500>, <carla.libcarla.Waypoint object at 0x000001CD07DE6570>), (<carla.libcarla.Waypoint object at 0x000001CD07DE65E0>, <carla.libcarla.Waypoint object at 0x000001CD07DE6650>), (<carla.libcarla.Waypoint object at 0x000001CD07DE66C0>, <carla.libcarla.Waypoint object at 0x000001CD07DE6730>), (<carla.libcarla.Waypoint object at 0x000001CD07DE67A0>, <carla.libcarla.Waypoint object at 0x000001CD07DE6810>), (<carla.libcarla.Waypoint object at 0x000001CD07DE6880>, <carla.libcarla.Waypoint object at 0x000001CD07DE68F0>), (<carla.libcarla.Waypoint object at 0x000001CD07DE6960>, <carla.libcarla.Waypoint object at 0x000001CD07DE69D0>), (<carla.libcarla.Waypoint object at 0x000001CD07DE6A40>, <carla.libcarla.Waypoint object at 0x000001CD07DE6AB0>), (<carla.libcarla.Waypoint object at 0x000001CD07DE6B20>, <carla.libcarla.Waypoint object at 0x000001CD07DE6B90>), (<carla.libcarla.Waypoint object at 0x000001CD07DE6C00>, <carla.libcarla.Waypoint object at 0x000001CD07DE6C70>), (<carla.libcarla.Waypoint object at 0x000001CD07DE6CE0>, <carla.libcarla.Waypoint object at 0x000001CD07DE6D50>), (<carla.libcarla.Waypoint object at 0x000001CD07DE6DC0>, <carla.libcarla.Waypoint object at 0x000001CD07DE6E30>), (<carla.libcarla.Waypoint object at 0x000001CD07DE6EA0>, <carla.libcarla.Waypoint object at 0x000001CD07DE6F10>), (<carla.libcarla.Waypoint object at 0x000001CD07DE6F80>, <carla.libcarla.Waypoint object at 0x000001CD07DE6FF0>), (<carla.libcarla.Waypoint object at 0x000001CD07DE7060>, <carla.libcarla.Waypoint object at 0x000001CD07DE70D0>), (<carla.libcarla.Waypoint object at 0x000001CD07DE7140>, <carla.libcarla.Waypoint object at 0x000001CD07DE71B0>), (<carla.libcarla.Waypoint object at 0x000001CD07DE7220>, <carla.libcarla.Waypoint object at 0x000001CD07DE7290>), (<carla.libcarla.Waypoint object at 0x000001CD07DE7300>, <carla.libcarla.Waypoint object at 0x000001CD07DE7370>), (<carla.libcarla.Waypoint object at 0x000001CD07DE73E0>, <carla.libcarla.Waypoint object at 0x000001CD07DE7450>), (<carla.libcarla.Waypoint object at 0x000001CD07DE74C0>, <carla.libcarla.Waypoint object at 0x000001CD07DE7530>), (<carla.libcarla.Waypoint object at 0x000001CD07DE75A0>, <carla.libcarla.Waypoint object at 0x000001CD07DE7610>), (<carla.libcarla.Waypoint object at 0x000001CD07DE7680>, <carla.libcarla.Waypoint object at 0x000001CD07DE76F0>), (<carla.libcarla.Waypoint object at 0x000001CD07DE7760>, <carla.libcarla.Waypoint object at 0x000001CD07DE77D0>), (<carla.libcarla.Waypoint object at 0x000001CD07DE7840>, <carla.libcarla.Waypoint object at 0x000001CD07DE78B0>), (<carla.libcarla.Waypoint object at 0x000001CD07DE7920>, <carla.libcarla.Waypoint object at 0x000001CD07DE7990>), (<carla.libcarla.Waypoint object at 0x000001CD07DE7A00>, <carla.libcarla.Waypoint object at 0x000001CD07DE7A70>), (<carla.libcarla.Waypoint object at 0x000001CD07DE7AE0>, <carla.libcarla.Waypoint object at 0x000001CD07DE7B50>), (<carla.libcarla.Waypoint object at 0x000001CD07DE7BC0>, <carla.libcarla.Waypoint object at 0x000001CD07DE7C30>), (<carla.libcarla.Waypoint object at 0x000001CD07DE7CA0>, <carla.libcarla.Waypoint object at 0x000001CD07DE7D10>), (<carla.libcarla.Waypoint object at 0x000001CD07DE7D80>, <carla.libcarla.Waypoint object at 0x000001CD07DE7DF0>), (<carla.libcarla.Waypoint object at 0x000001CD07DE7E60>, <carla.libcarla.Waypoint object at 0x000001CD07DE7ED0>), (<carla.libcarla.Waypoint object at 0x000001CD07DE7F40>, <carla.libcarla.Waypoint object at 0x000001CD07E80040>), (<carla.libcarla.Waypoint object at 0x000001CD07E800B0>, <carla.libcarla.Waypoint object at 0x000001CD07E80120>), (<carla.libcarla.Waypoint object at 0x000001CD07E80190>, <carla.libcarla.Waypoint object at 0x000001CD07E80200>), (<carla.libcarla.Waypoint object at 0x000001CD07E80270>, <carla.libcarla.Waypoint object at 0x000001CD07E802E0>), (<carla.libcarla.Waypoint object at 0x000001CD07E80350>, <carla.libcarla.Waypoint object at 0x000001CD07E803C0>), (<carla.libcarla.Waypoint object at 0x000001CD07E80430>, <carla.libcarla.Waypoint object at 0x000001CD07E804A0>), (<carla.libcarla.Waypoint object at 0x000001CD07E80510>, <carla.libcarla.Waypoint object at 0x000001CD07E80580>), (<carla.libcarla.Waypoint object at 0x000001CD07E805F0>, <carla.libcarla.Waypoint object at 0x000001CD07E80660>), (<carla.libcarla.Waypoint object at 0x000001CD07E806D0>, <carla.libcarla.Waypoint object at 0x000001CD07E80740>), (<carla.libcarla.Waypoint object at 0x000001CD07E807B0>, <carla.libcarla.Waypoint object at 0x000001CD07E80820>), (<carla.libcarla.Waypoint object at 0x000001CD07E80890>, <carla.libcarla.Waypoint object at 0x000001CD07E80900>), (<carla.libcarla.Waypoint object at 0x000001CD07E80970>, <carla.libcarla.Waypoint object at 0x000001CD07E809E0>), (<carla.libcarla.Waypoint object at 0x000001CD07E80A50>, <carla.libcarla.Waypoint object at 0x000001CD07E80AC0>), (<carla.libcarla.Waypoint object at 0x000001CD07E80B30>, <carla.libcarla.Waypoint object at 0x000001CD07E80BA0>), (<carla.libcarla.Waypoint object at 0x000001CD07E80C10>, <carla.libcarla.Waypoint object at 0x000001CD07E80C80>), (<carla.libcarla.Waypoint object at 0x000001CD07E80CF0>, <carla.libcarla.Waypoint object at 0x000001CD07E80D60>), (<carla.libcarla.Waypoint object at 0x000001CD07E80DD0>, <carla.libcarla.Waypoint object at 0x000001CD07E80E40>), (<carla.libcarla.Waypoint object at 0x000001CD07E80EB0>, <carla.libcarla.Waypoint object at 0x000001CD07E80F20>), (<carla.libcarla.Waypoint object at 0x000001CD07E80F90>, <carla.libcarla.Waypoint object at 0x000001CD07E81000>), (<carla.libcarla.Waypoint object at 0x000001CD07E81070>, <carla.libcarla.Waypoint object at 0x000001CD07E810E0>), (<carla.libcarla.Waypoint object at 0x000001CD07E81150>, <carla.libcarla.Waypoint object at 0x000001CD07E811C0>), (<carla.libcarla.Waypoint object at 0x000001CD07E81230>, <carla.libcarla.Waypoint object at 0x000001CD07E812A0>), (<carla.libcarla.Waypoint object at 0x000001CD07E81310>, <carla.libcarla.Waypoint object at 0x000001CD07E81380>), (<carla.libcarla.Waypoint object at 0x000001CD07E813F0>, <carla.libcarla.Waypoint object at 0x000001CD07E81460>), (<carla.libcarla.Waypoint object at 0x000001CD07E814D0>, <carla.libcarla.Waypoint object at 0x000001CD07E81540>), (<carla.libcarla.Waypoint object at 0x000001CD07E815B0>, <carla.libcarla.Waypoint object at 0x000001CD07E81620>), (<carla.libcarla.Waypoint object at 0x000001CD07E81690>, <carla.libcarla.Waypoint object at 0x000001CD07E81700>), (<carla.libcarla.Waypoint object at 0x000001CD07E81770>, <carla.libcarla.Waypoint object at 0x000001CD07E817E0>), (<carla.libcarla.Waypoint object at 0x000001CD07E81850>, <carla.libcarla.Waypoint object at 0x000001CD07E818C0>), (<carla.libcarla.Waypoint object at 0x000001CD07E81930>, <carla.libcarla.Waypoint object at 0x000001CD07E819A0>), (<carla.libcarla.Waypoint object at 0x000001CD07E81A10>, <carla.libcarla.Waypoint object at 0x000001CD07E81A80>), (<carla.libcarla.Waypoint object at 0x000001CD07E81AF0>, <carla.libcarla.Waypoint object at 0x000001CD07E81B60>), (<carla.libcarla.Waypoint object at 0x000001CD07E81BD0>, <carla.libcarla.Waypoint object at 0x000001CD07E81C40>), (<carla.libcarla.Waypoint object at 0x000001CD07E81CB0>, <carla.libcarla.Waypoint object at 0x000001CD07E81D20>), (<carla.libcarla.Waypoint object at 0x000001CD07E81D90>, <carla.libcarla.Waypoint object at 0x000001CD07E81E00>), (<carla.libcarla.Waypoint object at 0x000001CD07E81E70>, <carla.libcarla.Waypoint object at 0x000001CD07E81EE0>), (<carla.libcarla.Waypoint object at 0x000001CD07E81F50>, <carla.libcarla.Waypoint object at 0x000001CD07E81FC0>), (<carla.libcarla.Waypoint object at 0x000001CD07E82030>, <carla.libcarla.Waypoint object at 0x000001CD07E820A0>), (<carla.libcarla.Waypoint object at 0x000001CD07E82110>, <carla.libcarla.Waypoint object at 0x000001CD07E82180>), (<carla.libcarla.Waypoint object at 0x000001CD07E821F0>, <carla.libcarla.Waypoint object at 0x000001CD07E82260>), (<carla.libcarla.Waypoint object at 0x000001CD07E822D0>, <carla.libcarla.Waypoint object at 0x000001CD07E82340>), (<carla.libcarla.Waypoint object at 0x000001CD07E823B0>, <carla.libcarla.Waypoint object at 0x000001CD07E82420>), (<carla.libcarla.Waypoint object at 0x000001CD07E82490>, <carla.libcarla.Waypoint object at 0x000001CD07E82500>), (<carla.libcarla.Waypoint object at 0x000001CD07E82570>, <carla.libcarla.Waypoint object at 0x000001CD07E825E0>), (<carla.libcarla.Waypoint object at 0x000001CD07E82650>, <carla.libcarla.Waypoint object at 0x000001CD07E826C0>), (<carla.libcarla.Waypoint object at 0x000001CD07E82730>, <carla.libcarla.Waypoint object at 0x000001CD07E827A0>), (<carla.libcarla.Waypoint object at 0x000001CD07E82810>, <carla.libcarla.Waypoint object at 0x000001CD07E82880>), (<carla.libcarla.Waypoint object at 0x000001CD07E828F0>, <carla.libcarla.Waypoint object at 0x000001CD07E82960>), (<carla.libcarla.Waypoint object at 0x000001CD07E829D0>, <carla.libcarla.Waypoint object at 0x000001CD07E82A40>), (<carla.libcarla.Waypoint object at 0x000001CD07E82AB0>, <carla.libcarla.Waypoint object at 0x000001CD07E82B20>), (<carla.libcarla.Waypoint object at 0x000001CD07E82B90>, <carla.libcarla.Waypoint object at 0x000001CD07E82C00>), (<carla.libcarla.Waypoint object at 0x000001CD07E82C70>, <carla.libcarla.Waypoint object at 0x000001CD07E82CE0>), (<carla.libcarla.Waypoint object at 0x000001CD07E82D50>, <carla.libcarla.Waypoint object at 0x000001CD07E82DC0>), (<carla.libcarla.Waypoint object at 0x000001CD07E82E30>, <carla.libcarla.Waypoint object at 0x000001CD07E82EA0>), (<carla.libcarla.Waypoint object at 0x000001CD07E82F10>, <carla.libcarla.Waypoint object at 0x000001CD07E82F80>)]\n"
     ]
    }
   ],
   "source": [
    "# Get map information\n",
    "town_map = world.get_map()\n",
    "print(town_map.name)\n",
    "\n",
    "# Get waypoints\n",
    "roads = town_map.get_topology()\n",
    "print(roads)"
   ]
  },
  {
   "cell_type": "code",
   "execution_count": 13,
   "metadata": {},
   "outputs": [
    {
     "name": "stdout",
     "output_type": "stream",
     "text": [
      "Waypoint(Transform(Location(x=109.929878, y=-9.334196, z=0.000000), Rotation(pitch=0.000000, yaw=-89.609253, roll=0.000000)))\n"
     ]
    }
   ],
   "source": [
    "# Look at waypoint information. transform wrapped as a waypoint\n",
    "print(roads[0][0])"
   ]
  },
  {
   "cell_type": "code",
   "execution_count": 14,
   "metadata": {},
   "outputs": [
    {
     "name": "stdout",
     "output_type": "stream",
     "text": [
      "200\n"
     ]
    }
   ],
   "source": [
    "# Get amount of waypoints on the map\n",
    "print(len(roads))"
   ]
  },
  {
   "cell_type": "code",
   "execution_count": 15,
   "metadata": {},
   "outputs": [
    {
     "name": "stdout",
     "output_type": "stream",
     "text": [
      "Location(x=109.929878, y=-9.334196, z=0.000000)\n",
      "Location(x=106.429962, y=-9.358066, z=0.000000)\n",
      "Location(x=102.980186, y=-22.705795, z=0.000000)\n",
      "Location(x=99.480568, y=-22.757402, z=0.000000)\n",
      "Location(x=19.330637, y=140.959915, z=0.000000)\n",
      "Location(x=19.350212, y=137.459961, z=0.000000)\n",
      "Location(x=102.300583, y=82.914726, z=0.000000)\n",
      "Location(x=98.800667, y=82.890854, z=0.000000)\n",
      "Location(x=109.502762, y=53.293152, z=0.000000)\n",
      "Location(x=106.002846, y=53.269283, z=0.000000)\n",
      "Location(x=106.002846, y=53.269283, z=0.000000)\n",
      "Location(x=106.002846, y=53.269283, z=0.000000)\n",
      "Location(x=102.578484, y=42.165668, z=0.000000)\n",
      "Location(x=99.078568, y=42.141800, z=0.000000)\n",
      "Location(x=99.078568, y=42.141800, z=0.000000)\n",
      "Location(x=109.896400, y=-4.425507, z=0.000000)\n",
      "Location(x=106.396484, y=-4.449376, z=0.000000)\n",
      "Location(x=102.930038, y=-9.381519, z=0.000000)\n",
      "Location(x=99.430122, y=-9.405389, z=0.000000)\n",
      "Location(x=99.430122, y=-9.405389, z=0.000000)\n",
      "Location(x=-0.147736, y=130.210083, z=0.000000)\n",
      "Location(x=-0.147736, y=130.210083, z=0.000000)\n",
      "Location(x=-0.147736, y=130.210083, z=0.000000)\n",
      "Location(x=-0.169245, y=133.710022, z=0.000000)\n",
      "Location(x=-28.560221, y=137.035614, z=0.000000)\n",
      "Location(x=-28.581730, y=140.535553, z=0.000000)\n",
      "Location(x=-48.811237, y=-1.684546, z=0.000000)\n",
      "Location(x=-70.489922, y=128.902863, z=0.000000)\n",
      "Location(x=-71.269684, y=132.314896, z=0.000000)\n",
      "Location(x=-71.269684, y=132.314896, z=0.000000)\n",
      "Location(x=-110.732994, y=43.860245, z=0.000000)\n",
      "Location(x=-114.232773, y=43.821014, z=0.000000)\n",
      "Location(x=-103.216141, y=-2.208392, z=0.000000)\n",
      "Location(x=-103.216141, y=-2.208392, z=0.000000)\n",
      "Location(x=-106.715919, y=-2.247623, z=0.000000)\n",
      "Location(x=-67.081741, y=-65.193367, z=0.000000)\n",
      "Location(x=-67.081741, y=-65.193367, z=0.000000)\n",
      "Location(x=-67.081741, y=-65.193367, z=0.000000)\n",
      "Location(x=-67.045288, y=-68.693176, z=0.000000)\n",
      "Location(x=-27.836781, y=-57.784237, z=0.000000)\n",
      "Location(x=-27.800329, y=-61.284046, z=0.000000)\n",
      "Location(x=-5.302428, y=-64.549911, z=0.000000)\n",
      "Location(x=-5.302428, y=-64.549911, z=0.000000)\n",
      "Location(x=-5.265976, y=-68.049721, z=0.000000)\n",
      "Location(x=-0.212264, y=140.709900, z=0.000000)\n",
      "Location(x=-0.190755, y=137.209961, z=0.000000)\n",
      "Location(x=19.369778, y=133.960022, z=0.000000)\n",
      "Location(x=19.389353, y=130.460068, z=0.000000)\n",
      "Location(x=44.028950, y=52.548702, z=0.000000)\n",
      "Location(x=40.389641, y=41.945499, z=0.000000)\n",
      "Location(x=40.389641, y=41.945499, z=0.000000)\n",
      "Location(x=109.979424, y=-22.602591, z=0.000000)\n",
      "Location(x=106.479805, y=-22.654198, z=0.000000)\n",
      "Location(x=7.411115, y=-60.900002, z=0.000000)\n",
      "Location(x=7.412545, y=-57.400002, z=0.000000)\n",
      "Location(x=-66.835869, y=27.998329, z=0.000000)\n",
      "Location(x=85.982246, y=66.358490, z=0.000000)\n",
      "Location(x=85.982246, y=66.358490, z=0.000000)\n",
      "Location(x=58.047794, y=69.822777, z=0.000000)\n",
      "Location(x=27.142294, y=66.283257, z=0.000000)\n",
      "Location(x=-27.022135, y=69.714005, z=0.000000)\n",
      "Location(x=-27.022135, y=69.714005, z=0.000000)\n",
      "Location(x=-28.684343, y=13.104278, z=0.000000)\n",
      "Location(x=-41.483009, y=114.945297, z=0.000000)\n",
      "Location(x=-41.483009, y=114.945297, z=0.000000)\n",
      "Location(x=-44.982998, y=114.955147, z=0.000000)\n",
      "Location(x=-48.573933, y=82.645119, z=0.000000)\n",
      "Location(x=-52.073921, y=82.654968, z=0.000000)\n",
      "Location(x=-48.482979, y=114.964989, z=0.000000)\n",
      "Location(x=-41.660969, y=51.705544, z=0.000000)\n",
      "Location(x=-41.660969, y=51.705544, z=0.000000)\n",
      "Location(x=-45.160957, y=51.715393, z=0.000000)\n",
      "Location(x=-45.160957, y=51.715393, z=0.000000)\n",
      "Location(x=-48.686749, y=42.555279, z=0.000000)\n",
      "Location(x=-52.186737, y=42.565128, z=0.000000)\n",
      "Location(x=-45.186760, y=42.545429, z=0.000000)\n",
      "Location(x=-41.811264, y=-1.704244, z=0.000000)\n",
      "Location(x=-45.311253, y=-1.694395, z=0.000000)\n",
      "Location(x=-48.819992, y=-4.795075, z=0.000000)\n",
      "Location(x=-48.819992, y=-4.795075, z=0.000000)\n",
      "Location(x=-48.819992, y=-4.795075, z=0.000000)\n",
      "Location(x=-52.319981, y=-4.785226, z=0.000000)\n",
      "Location(x=-52.319981, y=-4.785226, z=0.000000)\n",
      "Location(x=-41.820019, y=-4.814774, z=0.000000)\n",
      "Location(x=-45.320007, y=-4.804924, z=0.000000)\n",
      "Location(x=-48.839951, y=-17.213200, z=0.000000)\n",
      "Location(x=-52.339851, y=-17.239609, z=0.000000)\n",
      "Location(x=7.407855, y=-67.899994, z=0.000000)\n",
      "Location(x=7.409285, y=-64.399994, z=0.000000)\n",
      "Location(x=-5.338221, y=-61.050095, z=0.000000)\n",
      "Location(x=-5.374673, y=-57.550285, z=0.000000)\n",
      "Location(x=-88.685791, y=27.937620, z=0.000000)\n",
      "Location(x=-88.676064, y=24.437634, z=0.000000)\n",
      "Location(x=-78.043877, y=16.467146, z=0.000000)\n",
      "Location(x=-78.043877, y=16.467146, z=0.000000)\n",
      "Location(x=-78.034149, y=12.967159, z=0.000000)\n",
      "Location(x=-78.034149, y=12.967159, z=0.000000)\n",
      "Location(x=-78.075836, y=27.967100, z=0.000000)\n",
      "Location(x=-78.075836, y=27.967100, z=0.000000)\n",
      "Location(x=-78.066109, y=24.467113, z=0.000000)\n",
      "Location(x=-78.066109, y=24.467113, z=0.000000)\n",
      "Location(x=-78.066109, y=24.467113, z=0.000000)\n",
      "Location(x=-66.803925, y=16.498377, z=0.000000)\n",
      "Location(x=-66.794197, y=12.998390, z=0.000000)\n",
      "Location(x=-41.686771, y=42.535580, z=0.000000)\n",
      "Location(x=-45.186760, y=42.545429, z=0.000000)\n",
      "Location(x=-28.726021, y=28.104219, z=0.000000)\n",
      "Location(x=-28.726021, y=28.104219, z=0.000000)\n",
      "Location(x=-28.716295, y=24.604233, z=0.000000)\n",
      "Location(x=26.435720, y=16.757444, z=0.000000)\n",
      "Location(x=26.435720, y=16.757444, z=0.000000)\n",
      "Location(x=26.445444, y=13.257458, z=0.000000)\n",
      "Location(x=26.445444, y=13.257458, z=0.000000)\n",
      "Location(x=-41.573959, y=82.625427, z=0.000000)\n",
      "Location(x=57.403648, y=28.343533, z=0.000000)\n",
      "Location(x=57.403648, y=28.343533, z=0.000000)\n",
      "Location(x=57.413372, y=24.843546, z=0.000000)\n",
      "Location(x=57.413372, y=24.843546, z=0.000000)\n",
      "Location(x=83.065498, y=16.914791, z=0.000000)\n",
      "Location(x=83.075226, y=13.414804, z=0.000000)\n",
      "Location(x=27.137821, y=69.783257, z=0.000000)\n",
      "Location(x=-52.142601, y=-43.380299, z=0.000000)\n",
      "Location(x=-48.642700, y=-43.353889, z=0.000000)\n",
      "Location(x=-45.340050, y=-17.186794, z=0.000000)\n",
      "Location(x=-45.340050, y=-17.186794, z=0.000000)\n",
      "Location(x=-41.840149, y=-17.160385, z=0.000000)\n",
      "Location(x=-41.840149, y=-17.160385, z=0.000000)\n",
      "Location(x=40.529247, y=52.594585, z=0.000000)\n",
      "Location(x=-27.763874, y=-64.783859, z=0.000000)\n",
      "Location(x=26.403767, y=28.257399, z=0.000000)\n",
      "Location(x=-110.215714, y=-2.286854, z=0.000000)\n",
      "Location(x=-113.715492, y=-2.326085, z=0.000000)\n",
      "Location(x=-41.642899, y=-43.301075, z=0.000000)\n",
      "Location(x=-45.142799, y=-43.327484, z=0.000000)\n",
      "Location(x=-41.642902, y=-43.301075, z=0.000000)\n",
      "Location(x=-48.811237, y=-1.684548, z=0.000000)\n",
      "Location(x=-52.311226, y=-1.674698, z=0.000000)\n",
      "Location(x=-28.694069, y=16.604265, z=0.000000)\n",
      "Location(x=-67.154648, y=-58.193748, z=0.000000)\n",
      "Location(x=-67.118195, y=-61.693558, z=0.000000)\n",
      "Location(x=-27.763874, y=-64.783859, z=0.000000)\n",
      "Location(x=-27.727423, y=-68.283669, z=0.000000)\n",
      "Location(x=-45.142799, y=-43.327644, z=0.000000)\n",
      "Location(x=-67.154648, y=-58.193745, z=0.000000)\n",
      "Location(x=58.052273, y=66.322777, z=0.000000)\n",
      "Location(x=58.052273, y=66.322777, z=0.000000)\n",
      "Location(x=-51.982967, y=114.974838, z=0.000000)\n",
      "Location(x=-41.686775, y=42.535580, z=0.000000)\n",
      "Location(x=27.137819, y=69.783257, z=0.000000)\n",
      "Location(x=40.529247, y=52.594585, z=0.000000)\n",
      "Location(x=-28.694069, y=16.604265, z=0.000000)\n",
      "Location(x=-28.684345, y=13.104279, z=0.000000)\n",
      "Location(x=-66.835876, y=27.998331, z=0.000000)\n",
      "Location(x=-66.826149, y=24.498344, z=0.000000)\n",
      "Location(x=-28.517200, y=130.035736, z=0.000000)\n",
      "Location(x=-52.311226, y=-1.674697, z=0.000000)\n",
      "Location(x=-66.826149, y=24.498343, z=0.000000)\n",
      "Location(x=-66.826149, y=24.498343, z=0.000000)\n",
      "Location(x=-48.811237, y=-1.684546, z=0.000000)\n",
      "Location(x=-28.517200, y=130.035736, z=0.000000)\n",
      "Location(x=-28.517202, y=130.035736, z=0.000000)\n",
      "Location(x=-28.538712, y=133.535675, z=0.000000)\n",
      "Location(x=-72.049438, y=135.726944, z=0.000000)\n",
      "Location(x=-72.829201, y=139.138977, z=0.000000)\n",
      "Location(x=102.896561, y=-4.473246, z=0.000000)\n",
      "Location(x=99.396645, y=-4.497115, z=0.000000)\n",
      "Location(x=109.578323, y=42.213409, z=0.000000)\n",
      "Location(x=106.078407, y=42.189541, z=0.000000)\n",
      "Location(x=83.033546, y=28.414747, z=0.000000)\n",
      "Location(x=106.078407, y=42.189541, z=0.000000)\n",
      "Location(x=106.078407, y=42.189541, z=0.000000)\n",
      "Location(x=83.033546, y=28.414747, z=0.000000)\n",
      "Location(x=83.043274, y=24.914761, z=0.000000)\n",
      "Location(x=83.043274, y=24.914761, z=0.000000)\n",
      "Location(x=99.396645, y=-4.497115, z=0.000000)\n",
      "Location(x=109.300423, y=82.962463, z=0.000000)\n",
      "Location(x=105.800507, y=82.938591, z=0.000000)\n",
      "Location(x=102.502922, y=53.245411, z=0.000000)\n",
      "Location(x=99.003006, y=53.221542, z=0.000000)\n",
      "Location(x=99.003006, y=53.221127, z=0.000000)\n",
      "Location(x=85.977776, y=69.858490, z=0.000000)\n",
      "Location(x=-107.233215, y=43.899479, z=0.000000)\n",
      "Location(x=-103.733437, y=43.938709, z=0.000000)\n",
      "Location(x=-88.653839, y=16.437666, z=0.000000)\n",
      "Location(x=-88.653839, y=16.437664, z=0.000000)\n",
      "Location(x=-107.233208, y=43.899220, z=0.000000)\n",
      "Location(x=-110.215706, y=-2.286854, z=0.000000)\n",
      "Location(x=-110.215706, y=-2.286854, z=0.000000)\n",
      "Location(x=-88.644112, y=12.937678, z=0.000000)\n",
      "Location(x=-88.644112, y=12.937677, z=0.000000)\n",
      "Location(x=43.889343, y=41.899616, z=0.000000)\n",
      "Location(x=26.403769, y=28.257399, z=0.000000)\n",
      "Location(x=26.413492, y=24.757412, z=0.000000)\n",
      "Location(x=57.435596, y=16.843578, z=0.000000)\n",
      "Location(x=57.445320, y=13.343592, z=0.000000)\n",
      "Location(x=-48.660942, y=51.725246, z=0.000000)\n",
      "Location(x=-52.160931, y=51.735096, z=0.000000)\n",
      "Location(x=-41.573959, y=82.625427, z=0.000000)\n",
      "Location(x=-45.073948, y=82.635277, z=0.000000)\n",
      "Location(x=-27.017662, y=66.214005, z=0.000000)\n"
     ]
    }
   ],
   "source": [
    "# Show waypoints on the map\n",
    "for i in range(len(roads)):\n",
    "    print(roads[i][0].transform.location)"
   ]
  },
  {
   "cell_type": "code",
   "execution_count": 13,
   "metadata": {},
   "outputs": [],
   "source": [
    "# Make a route from one position to another\n",
    "# pos 1 (start): Transform(Location(x=-64.644508, y=24.470905, z=-0.006843), Rotation(pitch=0.064163, yaw=0.159180, roll=-0.000671))\n",
    "# pos 2 (end): Transform(Location(x=-45.162773, y=-40.666988, z=-0.007455), Rotation(pitch=0.064094, yaw=-89.594597, roll=0.000000))\n",
    "\n",
    "#import code for route planning, need networkx and numpy modules\n",
    "sys.path.append('C:\\CARLA_0.9.15\\PythonAPI\\carla')\n",
    "from agents.navigation.global_route_planner import GlobalRoutePlanner"
   ]
  },
  {
   "cell_type": "code",
   "execution_count": 14,
   "metadata": {},
   "outputs": [
    {
     "ename": "NameError",
     "evalue": "name 'town_map' is not defined",
     "output_type": "error",
     "traceback": [
      "\u001b[1;31m---------------------------------------------------------------------------\u001b[0m",
      "\u001b[1;31mNameError\u001b[0m                                 Traceback (most recent call last)",
      "Cell \u001b[1;32mIn[14], line 3\u001b[0m\n\u001b[0;32m      1\u001b[0m \u001b[38;5;66;03m# plan route and visually draw it in the simulator\u001b[39;00m\n\u001b[0;32m      2\u001b[0m sampling_resolution \u001b[38;5;241m=\u001b[39m \u001b[38;5;241m2\u001b[39m\n\u001b[1;32m----> 3\u001b[0m grp \u001b[38;5;241m=\u001b[39m GlobalRoutePlanner(\u001b[43mtown_map\u001b[49m, sampling_resolution)\n\u001b[0;32m      5\u001b[0m \u001b[38;5;66;03m# point_a = random.choice(roads)[0].transform.location\u001b[39;00m\n\u001b[0;32m      6\u001b[0m \u001b[38;5;66;03m# point_b = random.choice(roads)[0].transform.location\u001b[39;00m\n\u001b[0;32m      7\u001b[0m \n\u001b[0;32m      8\u001b[0m \u001b[38;5;66;03m# Use predefined points\u001b[39;00m\n\u001b[0;32m      9\u001b[0m point_a \u001b[38;5;241m=\u001b[39m carla\u001b[38;5;241m.\u001b[39mLocation(x\u001b[38;5;241m=\u001b[39m\u001b[38;5;241m-\u001b[39m\u001b[38;5;241m64.644508\u001b[39m, y\u001b[38;5;241m=\u001b[39m\u001b[38;5;241m24.470905\u001b[39m, z\u001b[38;5;241m=\u001b[39m\u001b[38;5;241m-\u001b[39m\u001b[38;5;241m0.006843\u001b[39m)\n",
      "\u001b[1;31mNameError\u001b[0m: name 'town_map' is not defined"
     ]
    }
   ],
   "source": [
    "# plan route and visually draw it in the simulator\n",
    "sampling_resolution = 2\n",
    "grp = GlobalRoutePlanner(town_map, sampling_resolution)\n",
    "\n",
    "# point_a = random.choice(roads)[0].transform.location\n",
    "# point_b = random.choice(roads)[0].transform.location\n",
    "\n",
    "# Use predefined points\n",
    "point_a = carla.Location(x=-64.644508, y=24.470905, z=-0.006843)\n",
    "point_b = carla.Location(x=-45.162773, y=-40.666988, z=-0.007455)\n",
    "\n",
    "route = grp.trace_route(point_a, point_b)\n",
    "\n",
    "# Draw route in simulator\n",
    "for i in range(len(route)):\n",
    "    world.debug.draw_string(route[i][0].transform.location, 'O', draw_shadow=False,\n",
    "                            color=carla.Color(r=255, g=0, b=0), life_time=120.0,\n",
    "                            persistent_lines=True)"
   ]
  },
  {
   "cell_type": "code",
   "execution_count": 1,
   "metadata": {},
   "outputs": [
    {
     "ename": "NameError",
     "evalue": "name 'cleanUp' is not defined",
     "output_type": "error",
     "traceback": [
      "\u001b[1;31m---------------------------------------------------------------------------\u001b[0m",
      "\u001b[1;31mNameError\u001b[0m                                 Traceback (most recent call last)",
      "Cell \u001b[1;32mIn[1], line 2\u001b[0m\n\u001b[0;32m      1\u001b[0m \u001b[38;5;66;03m# Clean up all vehicle actors and sensors using the cleanUp function\u001b[39;00m\n\u001b[1;32m----> 2\u001b[0m \u001b[43mcleanUp\u001b[49m()\n",
      "\u001b[1;31mNameError\u001b[0m: name 'cleanUp' is not defined"
     ]
    }
   ],
   "source": [
    "# Clean up all vehicle actors and sensors using the cleanUp function\n",
    "cleanUp()"
   ]
  },
  {
   "cell_type": "code",
   "execution_count": 17,
   "metadata": {},
   "outputs": [],
   "source": [
    "# Create spectator over spawned vehicle\n",
    "spectator = world.get_spectator()\n",
    "spawn_points = world.get_map().get_spawn_points()\n",
    "start_point = spawn_points[0]\n",
    "\n",
    "spectator_pos = carla.Transform(start_point.location + carla.Location(x=20, y=10, z=4), \n",
    "                                carla.Rotation(yaw = start_point.rotation.yaw - 155))\n",
    "spectator.set_transform(spectator_pos)"
   ]
  },
  {
   "cell_type": "code",
   "execution_count": null,
   "metadata": {},
   "outputs": [],
   "source": []
  }
 ],
 "metadata": {
  "kernelspec": {
   "display_name": "condaenv",
   "language": "python",
   "name": "python3"
  },
  "language_info": {
   "codemirror_mode": {
    "name": "ipython",
    "version": 3
   },
   "file_extension": ".py",
   "mimetype": "text/x-python",
   "name": "python",
   "nbconvert_exporter": "python",
   "pygments_lexer": "ipython3",
   "version": "3.10.14"
  }
 },
 "nbformat": 4,
 "nbformat_minor": 2
}
